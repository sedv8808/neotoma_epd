{
 "cells": [
  {
   "cell_type": "code",
   "execution_count": 2,
   "id": "3d218cbb",
   "metadata": {
    "slideshow": {
     "slide_type": "skip"
    }
   },
   "outputs": [
    {
     "name": "stderr",
     "output_type": "stream",
     "text": [
      "\n",
      "Attaching package: ‘neotoma2’\n",
      "\n",
      "\n",
      "The following object is masked from ‘package:stats’:\n",
      "\n",
      "    filter\n",
      "\n",
      "\n"
     ]
    }
   ],
   "source": [
    "library(neotoma2)"
   ]
  },
  {
   "cell_type": "code",
   "execution_count": 3,
   "id": "da305d35",
   "metadata": {
    "slideshow": {
     "slide_type": "skip"
    }
   },
   "outputs": [
    {
     "data": {
      "text/plain": [
       " siteid    sitename   lat   long altitude\n",
       "     45 Blanch Road 42.77 -89.87      305"
      ]
     },
     "metadata": {},
     "output_type": "display_data"
    }
   ],
   "source": [
    "get_sites(45)"
   ]
  },
  {
   "cell_type": "markdown",
   "id": "43816fa0",
   "metadata": {
    "slideshow": {
     "slide_type": "slide"
    }
   },
   "source": [
    "# Markdown Title\n",
    "\n",
    "This is a slide"
   ]
  },
  {
   "cell_type": "markdown",
   "id": "e4013ade",
   "metadata": {
    "slideshow": {
     "slide_type": "slide"
    }
   },
   "source": [
    "<html>\n",
    "    <head>\n",
    "        <title>Neotoma EPD</title>\n",
    "    </head>\n",
    "    \n",
    "    <body>\n",
    "       <pre data-executable>\n",
    "\n",
    "library(neotoma2)\n",
    "\n",
    "dataset45 <- get_datasets(45)\n",
    "\n",
    "datasets(dataset45)\n",
    "       \n",
    "       </pre>\n",
    "\n",
    "       <script src=\"juniper.min.js\"> </script>\n",
    "       <script>new Juniper({repo: \"NeotomaDB/neotoma_binder\", \n",
    "                            branch: \"main\",\n",
    "                            lang: \"r\",\n",
    "                            kernelType: \"ir\",\n",
    "                            theme: 'monokai'})</script>\n",
    "    </body>\n",
    "</html>"
   ]
  },
  {
   "cell_type": "markdown",
   "id": "b30df694",
   "metadata": {
    "slideshow": {
     "slide_type": "slide"
    }
   },
   "source": [
    "<pre data-executable data-theme=\"cobalt\">print('Cobalt theme!')</pre>"
   ]
  },
  {
   "cell_type": "code",
   "execution_count": null,
   "id": "1519b942",
   "metadata": {},
   "outputs": [],
   "source": []
  }
 ],
 "metadata": {
  "celltoolbar": "Slideshow",
  "kernelspec": {
   "display_name": "R",
   "language": "R",
   "name": "ir"
  },
  "language_info": {
   "codemirror_mode": "r",
   "file_extension": ".r",
   "mimetype": "text/x-r-source",
   "name": "R",
   "pygments_lexer": "r",
   "version": "4.1.3"
  }
 },
 "nbformat": 4,
 "nbformat_minor": 5
}
