{
 "cells": [
  {
   "cell_type": "code",
   "execution_count": 2,
   "id": "3d218cbb",
   "metadata": {
    "slideshow": {
     "slide_type": "skip"
    }
   },
   "outputs": [
    {
     "name": "stderr",
     "output_type": "stream",
     "text": [
      "\n",
      "Attaching package: ‘neotoma2’\n",
      "\n",
      "\n",
      "The following object is masked from ‘package:stats’:\n",
      "\n",
      "    filter\n",
      "\n",
      "\n"
     ]
    }
   ],
   "source": [
    "library(neotoma2)"
   ]
  },
  {
   "cell_type": "code",
   "execution_count": 3,
   "id": "da305d35",
   "metadata": {
    "slideshow": {
     "slide_type": "skip"
    }
   },
   "outputs": [
    {
     "data": {
      "text/plain": [
       " siteid    sitename   lat   long altitude\n",
       "     45 Blanch Road 42.77 -89.87      305"
      ]
     },
     "metadata": {},
     "output_type": "display_data"
    }
   ],
   "source": [
    "get_sites(45)"
   ]
  },
  {
   "cell_type": "markdown",
   "id": "755b2fdd",
   "metadata": {
    "slideshow": {
     "slide_type": "slide"
    }
   },
   "source": [
    "# Markdown Title\n",
    "\n",
    "This is a slide"
   ]
  },
  {
   "cell_type": "markdown",
   "id": "4eb97278",
   "metadata": {
    "slideshow": {
     "slide_type": "slide"
    }
   },
   "source": [
    "<html>\n",
    "    <head>\n",
    "        <title>Neotoma EPD</title>\n",
    "    </head>\n",
    "    \n",
    "    <body>\n",
    "       <pre data-executable>\n",
    "\n",
    "library(neotoma2)\n",
    "\n",
    "dataset45 <- get_datasets(45)\n",
    "\n",
    "datasets(dataset45)\n",
    "       \n",
    "       </pre>\n",
    "\n",
    "       <script src=\"juniper.min.js\"> </script>\n",
    "       <script>new Juniper({repo: 'sedv8808/neotoma_binder', branch: 'main', defaultLang: 'r', kernelType: 'IRkernel', kernelName: 'IRkernel'})</script>\n",
    "    </body>\n",
    "</html>"
   ]
  },
  {
   "cell_type": "markdown",
   "id": "43a11aec",
   "metadata": {
    "slideshow": {
     "slide_type": "slide"
    }
   },
   "source": [
    "<pre data-executable data-theme=\"cobalt\">print('Cobalt theme!')</pre>"
   ]
  },
  {
   "cell_type": "markdown",
   "id": "5e33e7de",
   "metadata": {
    "slideshow": {
     "slide_type": "slide"
    }
   },
   "source": [
    "<script src=\"https://unpkg.com/thebe@latest/lib/index.js\"></script>\n",
    "<script type=\"text/x-thebe-config\">\n",
    "{\n",
    "    requestKernel: true,\n",
    "    binderOptions: {\n",
    "        repo: \"sedv8808/neotoma_binder\",\n",
    "        ref: \"main\",\n",
    "    },\n",
    "    kernelOptions: {\n",
    "    kernelName: \"ir\"}\n",
    "}\n",
    "</script>\n",
    "<pre data-executable=\"true\" data-language=\"r\">print(\"Hello!\")</pre>"
   ]
  },
  {
   "cell_type": "markdown",
   "id": "29164895",
   "metadata": {
    "slideshow": {
     "slide_type": "slide"
    }
   },
   "source": [
    "<script src=\"https://unpkg.com/thebe@latest/lib/index.js\"></script>\n",
    "\n",
    "<div class=\"thebe-activate\"></div>\n",
    "<div class=\"thebe-status\"></div>\n",
    "\n",
    "<html>\n",
    "    <head>\n",
    "        <title>Neotoma EPD</title>\n",
    "    </head>\n",
    "    \n",
    "    <body>\n",
    "       <pre data-executable=\"true\" data-language=\"r\">\n",
    "library(neotoma2)\n",
    "\n",
    "dataset45 <- get_datasets(45)\n",
    "\n",
    "datasets(dataset45)\n",
    "       \n",
    "       </pre>\n",
    "       <script src=\"https://unpkg.com/thebe@latest/lib/index.js\"></script>\n",
    "       <script type=\"text/x-thebe-config\">\n",
    "       {requestKernel: true,\n",
    "                       binderOptions: {\n",
    "                                       repo: \"sedv8808/neotoma_binder\",\n",
    "                                       ref: \"main\"\n",
    "                                       },\n",
    "                       kernelOptions: {kernelName: \"ir\"}\n",
    "                       } </script>\n",
    "     </body>\n",
    "        \n",
    "</html>"
   ]
  }
 ],
 "metadata": {
  "celltoolbar": "Slideshow",
  "kernelspec": {
   "display_name": "R",
   "language": "R",
   "name": "ir"
  },
  "language_info": {
   "codemirror_mode": "r",
   "file_extension": ".r",
   "mimetype": "text/x-r-source",
   "name": "R",
   "pygments_lexer": "r",
   "version": "4.1.3"
  }
 },
 "nbformat": 4,
 "nbformat_minor": 5
}
