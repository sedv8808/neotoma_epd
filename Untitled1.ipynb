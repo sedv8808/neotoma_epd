{
 "cells": [
  {
   "cell_type": "code",
   "execution_count": 2,
   "id": "3d218cbb",
   "metadata": {},
   "outputs": [
    {
     "name": "stderr",
     "output_type": "stream",
     "text": [
      "\n",
      "Attaching package: ‘neotoma2’\n",
      "\n",
      "\n",
      "The following object is masked from ‘package:stats’:\n",
      "\n",
      "    filter\n",
      "\n",
      "\n"
     ]
    }
   ],
   "source": [
    "library(neotoma2)"
   ]
  },
  {
   "cell_type": "code",
   "execution_count": 3,
   "id": "da305d35",
   "metadata": {},
   "outputs": [
    {
     "data": {
      "text/plain": [
       " siteid    sitename   lat   long altitude\n",
       "     45 Blanch Road 42.77 -89.87      305"
      ]
     },
     "metadata": {},
     "output_type": "display_data"
    }
   ],
   "source": [
    "get_sites(45)"
   ]
  },
  {
   "cell_type": "markdown",
   "id": "a4d5b562",
   "metadata": {},
   "source": [
    "<html>\n",
    "    <head>\n",
    "        <title>Your website</title>\n",
    "    </head>\n",
    "    <body>\n",
    "       <pre data-executable>\n",
    "            print('hello world!')\n",
    "       </pre>\n",
    "\n",
    "       <script src=\"juniper.min.js\"> </script>\n",
    "       <script>new Juniper({ repo: 'ines/juniper' })</script>\n",
    "    </body>\n",
    "</html>"
   ]
  },
  {
   "cell_type": "code",
   "execution_count": null,
   "id": "6acd66ae",
   "metadata": {},
   "outputs": [],
   "source": [
    "<html>\n",
    "    <head>\n",
    "        <title>Neotoma EPD</title>\n",
    "    </head>\n",
    "    <body>\n",
    "       <pre data-executable>\n",
    "            library(neotoma2)\n",
    "            dataset45 <- get_datasets(45)\n",
    "            datasets(dataset45)\n",
    "       </pre>\n",
    "\n",
    "       <script src=\"juniper.min.js\"> </script>\n",
    "       <script>new Juniper({ repo: 'NeotomaDB/neotoma_binder' })</script>\n",
    "    </body>\n",
    "</html>"
   ]
  }
 ],
 "metadata": {
  "kernelspec": {
   "display_name": "R",
   "language": "R",
   "name": "ir"
  },
  "language_info": {
   "codemirror_mode": "r",
   "file_extension": ".r",
   "mimetype": "text/x-r-source",
   "name": "R",
   "pygments_lexer": "r",
   "version": "4.1.3"
  }
 },
 "nbformat": 4,
 "nbformat_minor": 5
}
